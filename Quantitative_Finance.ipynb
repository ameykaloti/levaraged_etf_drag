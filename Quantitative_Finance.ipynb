{
 "cells": [
  {
   "cell_type": "markdown",
   "id": "c5a42f32-d354-4884-b31e-37bd3e964a33",
   "metadata": {},
   "source": [
    "<h1>Levaraged etfs and their drag</h1>\n",
    "\n",
    "Levaraged ETFs like TQQQ, are popular with investors because they provide levarage. A $3 \\times$ long ETF like TQQQ, provides $3$ times the daily return compared to the underlying QQQ. Similarly an inverse $3 \\times$ ETF like SQQQ provides $-3$ times the daily return of the underlying QQQ. \n",
    "\n",
    "For most investors it is not recommended to buy and hold these ETFs over the long term. The reason given is that they suffer a drag and some investors argue that there is a structural problem with these ETFs. Reasons for the drag are generally attributed to the variance and the rebalance drag. The rebalance drag occurs due to the need for rebalancing the derivatives used in structuring of these ETFs. I will explain in this post that levaraged ETFs on indices such as S&P 500 (SPX) and Nasdaq-100 (NDX), do not suffer from rebalance drag. The only source of drag is the variance drag. \n",
    "\n",
    "\n",
    "\n",
    "I will illustrate the argument by followig two pairs of unleveraged vs levaraged ETFs:"
   ]
  },
  {
   "cell_type": "markdown",
   "id": "c82d988d-746e-4e61-8b82-ede80692683c",
   "metadata": {},
   "source": [
    "\n",
    "\n",
    "\n",
    " <ul>\n",
    "  <li>SPY vs SPXL (ETFs on SPX)</li>\n",
    "  <li>QQQ vs TQQQ (ETFs on NDX)</li>\n",
    "\n",
    "</ul>  \n",
    "\n",
    "\n"
   ]
  },
  {
   "cell_type": "markdown",
   "id": "6276a330-fad3-46d7-a8b8-78b4d11f218c",
   "metadata": {},
   "source": [
    " \t\n"
   ]
  },
  {
   "cell_type": "markdown",
   "id": "3c1c6968-e58f-4d69-8d16-8b20d963e3dd",
   "metadata": {},
   "source": [
    "<h1>Mathematics of stock prices</h1>\n",
    "\n",
    "In mathematical finance and economics literature stock prices are modeled via Geometric Brownian Motion. This is described by the following equation. Let $S_t$ denote the price of a stock at time $t$.\n",
    "\n",
    "$$dS_t = \\mu dt + \\sigma dW_t, $$\n",
    "\n",
    "where $\\mu$ is the average return of the stock and $\\sigma$ is the standard deviation of the returns. $W_t$ is the standard Brownian motion with mean $0$ and variance $t$.\n",
    "\n",
    "This type of an equation is called a stochastic differential equation. Intuitively, the equation says change in the price of stock is due to two components, \n",
    "<ul>\n",
    "  <li>Deterministic component, which should be average return of the stock over the interval of time. This is precisely $\\mu dt$.</li>\n",
    "  <li>Random component, which should be thought of as noise. This is precisely $\\sigma dW_t$. </li>\n",
    "\n",
    "</ul> "
   ]
  },
  {
   "cell_type": "markdown",
   "id": "207f3f48-0855-4800-98f7-906947ce1a40",
   "metadata": {},
   "source": [
    "Let us now see this in action. "
   ]
  },
  {
   "cell_type": "code",
   "execution_count": 56,
   "id": "f39d9522-730f-4c78-906e-4c86fee76502",
   "metadata": {},
   "outputs": [],
   "source": [
    "from IPython.display import display, Math, Latex\n",
    "\n",
    "import pandas as pd\n",
    "import numpy as np\n",
    "import matplotlib.pyplot as plt\n",
    "import yfinance\n",
    "import datetime as dt\n",
    "from datetime import date, timedelta, time\n",
    "from datetime import datetime\n",
    "\n",
    "import plotly"
   ]
  },
  {
   "cell_type": "code",
   "execution_count": 57,
   "id": "bf6d3e9c-61ca-4a64-97e3-4b459891d81e",
   "metadata": {},
   "outputs": [],
   "source": [
    "#Fetching the historical stock price data for unlevaraged etfs: SPY and QQQ\n",
    "spy_info = yfinance.Ticker(\"SPY\")\n",
    "qqq_info = yfinance.Ticker(\"QQQ\")\n",
    "\n",
    "\n",
    "#Date range chosen for the historical data is 2010-02-12 to 2025-04-13. This is due to the fact that one of the levaraged ETFs TQQQ only started trading on 2010-02-12.\n",
    "start_date = \"2010-02-12\"\n",
    "end_date = \"2025-04-13\"\n",
    "\n",
    "number_of_years = (dt.datetime.strptime(end_date,\"%Y-%m-%d\") - dt.datetime.strptime(start_date, \"%Y-%m-%d\"))/timedelta(days=365)\n",
    "                 \n",
    "spy_history = spy_info.history(start = start_date , end = end_date )\n",
    "qqq_history = qqq_info.history(start = start_date, end = end_date)\n",
    "\n",
    "spy_history.reset_index(inplace = True)\n",
    "qqq_history.reset_index(inplace = True)\n"
   ]
  },
  {
   "cell_type": "code",
   "execution_count": 58,
   "id": "9f315aed-e363-4f50-bf23-7e2070d4aed5",
   "metadata": {},
   "outputs": [
    {
     "data": {
      "text/html": [
       "<div>\n",
       "<style scoped>\n",
       "    .dataframe tbody tr th:only-of-type {\n",
       "        vertical-align: middle;\n",
       "    }\n",
       "\n",
       "    .dataframe tbody tr th {\n",
       "        vertical-align: top;\n",
       "    }\n",
       "\n",
       "    .dataframe thead th {\n",
       "        text-align: right;\n",
       "    }\n",
       "</style>\n",
       "<table border=\"1\" class=\"dataframe\">\n",
       "  <thead>\n",
       "    <tr style=\"text-align: right;\">\n",
       "      <th></th>\n",
       "      <th>Date</th>\n",
       "      <th>Open</th>\n",
       "      <th>High</th>\n",
       "      <th>Low</th>\n",
       "      <th>Close</th>\n",
       "      <th>Volume</th>\n",
       "      <th>Dividends</th>\n",
       "      <th>Stock Splits</th>\n",
       "      <th>Capital Gains</th>\n",
       "    </tr>\n",
       "  </thead>\n",
       "  <tbody>\n",
       "    <tr>\n",
       "      <th>0</th>\n",
       "      <td>2010-02-12 00:00:00-05:00</td>\n",
       "      <td>80.970301</td>\n",
       "      <td>81.810352</td>\n",
       "      <td>80.607039</td>\n",
       "      <td>81.764946</td>\n",
       "      <td>304622100</td>\n",
       "      <td>0.0</td>\n",
       "      <td>0.0</td>\n",
       "      <td>0.0</td>\n",
       "    </tr>\n",
       "    <tr>\n",
       "      <th>1</th>\n",
       "      <td>2010-02-16 00:00:00-05:00</td>\n",
       "      <td>82.385537</td>\n",
       "      <td>83.134770</td>\n",
       "      <td>81.598462</td>\n",
       "      <td>83.051521</td>\n",
       "      <td>159317500</td>\n",
       "      <td>0.0</td>\n",
       "      <td>0.0</td>\n",
       "      <td>0.0</td>\n",
       "    </tr>\n",
       "    <tr>\n",
       "      <th>2</th>\n",
       "      <td>2010-02-17 00:00:00-05:00</td>\n",
       "      <td>83.452640</td>\n",
       "      <td>83.558598</td>\n",
       "      <td>83.051535</td>\n",
       "      <td>83.445076</td>\n",
       "      <td>168845100</td>\n",
       "      <td>0.0</td>\n",
       "      <td>0.0</td>\n",
       "      <td>0.0</td>\n",
       "    </tr>\n",
       "    <tr>\n",
       "      <th>3</th>\n",
       "      <td>2010-02-18 00:00:00-05:00</td>\n",
       "      <td>83.308856</td>\n",
       "      <td>84.111066</td>\n",
       "      <td>83.278584</td>\n",
       "      <td>83.937004</td>\n",
       "      <td>193708600</td>\n",
       "      <td>0.0</td>\n",
       "      <td>0.0</td>\n",
       "      <td>0.0</td>\n",
       "    </tr>\n",
       "    <tr>\n",
       "      <th>4</th>\n",
       "      <td>2010-02-19 00:00:00-05:00</td>\n",
       "      <td>83.717511</td>\n",
       "      <td>84.436471</td>\n",
       "      <td>83.520741</td>\n",
       "      <td>84.111046</td>\n",
       "      <td>222684900</td>\n",
       "      <td>0.0</td>\n",
       "      <td>0.0</td>\n",
       "      <td>0.0</td>\n",
       "    </tr>\n",
       "  </tbody>\n",
       "</table>\n",
       "</div>"
      ],
      "text/plain": [
       "                       Date       Open       High        Low      Close  \\\n",
       "0 2010-02-12 00:00:00-05:00  80.970301  81.810352  80.607039  81.764946   \n",
       "1 2010-02-16 00:00:00-05:00  82.385537  83.134770  81.598462  83.051521   \n",
       "2 2010-02-17 00:00:00-05:00  83.452640  83.558598  83.051535  83.445076   \n",
       "3 2010-02-18 00:00:00-05:00  83.308856  84.111066  83.278584  83.937004   \n",
       "4 2010-02-19 00:00:00-05:00  83.717511  84.436471  83.520741  84.111046   \n",
       "\n",
       "      Volume  Dividends  Stock Splits  Capital Gains  \n",
       "0  304622100        0.0           0.0            0.0  \n",
       "1  159317500        0.0           0.0            0.0  \n",
       "2  168845100        0.0           0.0            0.0  \n",
       "3  193708600        0.0           0.0            0.0  \n",
       "4  222684900        0.0           0.0            0.0  "
      ]
     },
     "execution_count": 58,
     "metadata": {},
     "output_type": "execute_result"
    }
   ],
   "source": [
    "spy_history.head()"
   ]
  },
  {
   "cell_type": "code",
   "execution_count": 59,
   "id": "21f5d3db-b6da-41eb-a1ef-4f61b4bc4618",
   "metadata": {},
   "outputs": [
    {
     "data": {
      "text/html": [
       "<div>\n",
       "<style scoped>\n",
       "    .dataframe tbody tr th:only-of-type {\n",
       "        vertical-align: middle;\n",
       "    }\n",
       "\n",
       "    .dataframe tbody tr th {\n",
       "        vertical-align: top;\n",
       "    }\n",
       "\n",
       "    .dataframe thead th {\n",
       "        text-align: right;\n",
       "    }\n",
       "</style>\n",
       "<table border=\"1\" class=\"dataframe\">\n",
       "  <thead>\n",
       "    <tr style=\"text-align: right;\">\n",
       "      <th></th>\n",
       "      <th>Date</th>\n",
       "      <th>Open</th>\n",
       "      <th>High</th>\n",
       "      <th>Low</th>\n",
       "      <th>Close</th>\n",
       "      <th>Volume</th>\n",
       "      <th>Dividends</th>\n",
       "      <th>Stock Splits</th>\n",
       "      <th>Capital Gains</th>\n",
       "    </tr>\n",
       "  </thead>\n",
       "  <tbody>\n",
       "    <tr>\n",
       "      <th>0</th>\n",
       "      <td>2010-02-12 00:00:00-05:00</td>\n",
       "      <td>37.747225</td>\n",
       "      <td>38.270525</td>\n",
       "      <td>37.642566</td>\n",
       "      <td>38.165863</td>\n",
       "      <td>93938500</td>\n",
       "      <td>0.0</td>\n",
       "      <td>0.0</td>\n",
       "      <td>0.0</td>\n",
       "    </tr>\n",
       "    <tr>\n",
       "      <th>1</th>\n",
       "      <td>2010-02-16 00:00:00-05:00</td>\n",
       "      <td>38.444945</td>\n",
       "      <td>38.680426</td>\n",
       "      <td>38.244345</td>\n",
       "      <td>38.654263</td>\n",
       "      <td>83861400</td>\n",
       "      <td>0.0</td>\n",
       "      <td>0.0</td>\n",
       "      <td>0.0</td>\n",
       "    </tr>\n",
       "    <tr>\n",
       "      <th>2</th>\n",
       "      <td>2010-02-17 00:00:00-05:00</td>\n",
       "      <td>38.828718</td>\n",
       "      <td>38.872326</td>\n",
       "      <td>38.601954</td>\n",
       "      <td>38.872326</td>\n",
       "      <td>82691700</td>\n",
       "      <td>0.0</td>\n",
       "      <td>0.0</td>\n",
       "      <td>0.0</td>\n",
       "    </tr>\n",
       "    <tr>\n",
       "      <th>3</th>\n",
       "      <td>2010-02-18 00:00:00-05:00</td>\n",
       "      <td>38.846140</td>\n",
       "      <td>39.186283</td>\n",
       "      <td>38.767645</td>\n",
       "      <td>39.116508</td>\n",
       "      <td>65752600</td>\n",
       "      <td>0.0</td>\n",
       "      <td>0.0</td>\n",
       "      <td>0.0</td>\n",
       "    </tr>\n",
       "    <tr>\n",
       "      <th>4</th>\n",
       "      <td>2010-02-19 00:00:00-05:00</td>\n",
       "      <td>39.011842</td>\n",
       "      <td>39.290934</td>\n",
       "      <td>38.915903</td>\n",
       "      <td>39.099060</td>\n",
       "      <td>80416500</td>\n",
       "      <td>0.0</td>\n",
       "      <td>0.0</td>\n",
       "      <td>0.0</td>\n",
       "    </tr>\n",
       "  </tbody>\n",
       "</table>\n",
       "</div>"
      ],
      "text/plain": [
       "                       Date       Open       High        Low      Close  \\\n",
       "0 2010-02-12 00:00:00-05:00  37.747225  38.270525  37.642566  38.165863   \n",
       "1 2010-02-16 00:00:00-05:00  38.444945  38.680426  38.244345  38.654263   \n",
       "2 2010-02-17 00:00:00-05:00  38.828718  38.872326  38.601954  38.872326   \n",
       "3 2010-02-18 00:00:00-05:00  38.846140  39.186283  38.767645  39.116508   \n",
       "4 2010-02-19 00:00:00-05:00  39.011842  39.290934  38.915903  39.099060   \n",
       "\n",
       "     Volume  Dividends  Stock Splits  Capital Gains  \n",
       "0  93938500        0.0           0.0            0.0  \n",
       "1  83861400        0.0           0.0            0.0  \n",
       "2  82691700        0.0           0.0            0.0  \n",
       "3  65752600        0.0           0.0            0.0  \n",
       "4  80416500        0.0           0.0            0.0  "
      ]
     },
     "execution_count": 59,
     "metadata": {},
     "output_type": "execute_result"
    }
   ],
   "source": [
    "qqq_history.head()"
   ]
  },
  {
   "cell_type": "code",
   "execution_count": 60,
   "id": "483a1561-df8f-40e7-80b2-d531fa7a8ead",
   "metadata": {},
   "outputs": [
    {
     "data": {
      "text/html": [
       "<div>\n",
       "<style scoped>\n",
       "    .dataframe tbody tr th:only-of-type {\n",
       "        vertical-align: middle;\n",
       "    }\n",
       "\n",
       "    .dataframe tbody tr th {\n",
       "        vertical-align: top;\n",
       "    }\n",
       "\n",
       "    .dataframe thead th {\n",
       "        text-align: right;\n",
       "    }\n",
       "</style>\n",
       "<table border=\"1\" class=\"dataframe\">\n",
       "  <thead>\n",
       "    <tr style=\"text-align: right;\">\n",
       "      <th></th>\n",
       "      <th>Date</th>\n",
       "      <th>Open</th>\n",
       "      <th>High</th>\n",
       "      <th>Low</th>\n",
       "      <th>Close</th>\n",
       "      <th>Volume</th>\n",
       "      <th>Dividends</th>\n",
       "      <th>Stock Splits</th>\n",
       "      <th>Capital Gains</th>\n",
       "    </tr>\n",
       "  </thead>\n",
       "  <tbody>\n",
       "    <tr>\n",
       "      <th>3810</th>\n",
       "      <td>2025-04-07 00:00:00-04:00</td>\n",
       "      <td>408.660004</td>\n",
       "      <td>443.140015</td>\n",
       "      <td>402.390015</td>\n",
       "      <td>423.690002</td>\n",
       "      <td>161557000</td>\n",
       "      <td>0.0</td>\n",
       "      <td>0.0</td>\n",
       "      <td>0.0</td>\n",
       "    </tr>\n",
       "    <tr>\n",
       "      <th>3811</th>\n",
       "      <td>2025-04-08 00:00:00-04:00</td>\n",
       "      <td>438.160004</td>\n",
       "      <td>443.140015</td>\n",
       "      <td>409.790009</td>\n",
       "      <td>416.059998</td>\n",
       "      <td>101248100</td>\n",
       "      <td>0.0</td>\n",
       "      <td>0.0</td>\n",
       "      <td>0.0</td>\n",
       "    </tr>\n",
       "    <tr>\n",
       "      <th>3812</th>\n",
       "      <td>2025-04-09 00:00:00-04:00</td>\n",
       "      <td>415.570007</td>\n",
       "      <td>467.829987</td>\n",
       "      <td>415.429993</td>\n",
       "      <td>466.000000</td>\n",
       "      <td>142876900</td>\n",
       "      <td>0.0</td>\n",
       "      <td>0.0</td>\n",
       "      <td>0.0</td>\n",
       "    </tr>\n",
       "    <tr>\n",
       "      <th>3813</th>\n",
       "      <td>2025-04-10 00:00:00-04:00</td>\n",
       "      <td>453.559998</td>\n",
       "      <td>455.589996</td>\n",
       "      <td>432.630005</td>\n",
       "      <td>446.179993</td>\n",
       "      <td>108384100</td>\n",
       "      <td>0.0</td>\n",
       "      <td>0.0</td>\n",
       "      <td>0.0</td>\n",
       "    </tr>\n",
       "    <tr>\n",
       "      <th>3814</th>\n",
       "      <td>2025-04-11 00:00:00-04:00</td>\n",
       "      <td>444.649994</td>\n",
       "      <td>455.790009</td>\n",
       "      <td>441.329987</td>\n",
       "      <td>454.399994</td>\n",
       "      <td>52483800</td>\n",
       "      <td>0.0</td>\n",
       "      <td>0.0</td>\n",
       "      <td>0.0</td>\n",
       "    </tr>\n",
       "  </tbody>\n",
       "</table>\n",
       "</div>"
      ],
      "text/plain": [
       "                          Date        Open        High         Low  \\\n",
       "3810 2025-04-07 00:00:00-04:00  408.660004  443.140015  402.390015   \n",
       "3811 2025-04-08 00:00:00-04:00  438.160004  443.140015  409.790009   \n",
       "3812 2025-04-09 00:00:00-04:00  415.570007  467.829987  415.429993   \n",
       "3813 2025-04-10 00:00:00-04:00  453.559998  455.589996  432.630005   \n",
       "3814 2025-04-11 00:00:00-04:00  444.649994  455.790009  441.329987   \n",
       "\n",
       "           Close     Volume  Dividends  Stock Splits  Capital Gains  \n",
       "3810  423.690002  161557000        0.0           0.0            0.0  \n",
       "3811  416.059998  101248100        0.0           0.0            0.0  \n",
       "3812  466.000000  142876900        0.0           0.0            0.0  \n",
       "3813  446.179993  108384100        0.0           0.0            0.0  \n",
       "3814  454.399994   52483800        0.0           0.0            0.0  "
      ]
     },
     "execution_count": 60,
     "metadata": {},
     "output_type": "execute_result"
    }
   ],
   "source": [
    "qqq_history.tail()"
   ]
  },
  {
   "cell_type": "code",
   "execution_count": 61,
   "id": "765c8897-7806-4fdc-bfd1-a30417ffac89",
   "metadata": {},
   "outputs": [
    {
     "name": "stdout",
     "output_type": "stream",
     "text": [
      "Average annual return over the last  15.175342465753424 years for SPY is: 13.91656103307539 %\n",
      "Average annual return over the last  15.175342465753424  years for QQQ is: 18.543826238712466 %\n"
     ]
    }
   ],
   "source": [
    "#Compute the daily return percentage for SPY and QQQ\n",
    "dailyret_spy = spy_history.loc[:, \"Close\"].pct_change()\n",
    "dailyret_qqq = qqq_history.loc[:,\"Close\"].pct_change()\n",
    "\n",
    "#Compute the average return for SPY and QQQ\n",
    "mean_spy = np.mean(dailyret_spy)\n",
    "mean_qqq = np.mean(dailyret_qqq)\n",
    "\n",
    "#Since we computed the daily returns based on trading days, to annualize the returns we multiply by 252, for the trading days \n",
    "print(\"Average annual return over the last \", number_of_years, \"years for SPY is:\", mean_spy*252*100,\"%\")\n",
    "print(\"Average annual return over the last \", number_of_years,\" years for QQQ is:\", mean_qqq*252*100,\"%\")"
   ]
  },
  {
   "cell_type": "code",
   "execution_count": 62,
   "id": "e8c660c3-c97d-426d-8180-7ce5f7666e28",
   "metadata": {},
   "outputs": [
    {
     "name": "stdout",
     "output_type": "stream",
     "text": [
      "Annual volatility over last 15.175342465753424  years for SPY is: 17.385696266786667 % per year.\n",
      "Annual volatility over last 15.175342465753424   years for QQQ is: 20.823320734444195 % per year.\n"
     ]
    }
   ],
   "source": [
    "#Compute the standard deviation of returns and then annualize them.\n",
    "\n",
    "sigma_spy = np.std(dailyret_spy)*np.sqrt(252)\n",
    "sigma_qqq = np.std(dailyret_qqq)*np.sqrt(252)\n",
    "\n",
    "#Usually the standard deviation is annualized and shown as percentage. This is also called the volatility of the stock.\n",
    "\n",
    "print(\"Annual volatility over last\", number_of_years, \" years for SPY is:\", sigma_spy*100,\"% per year.\")\n",
    "print(\"Annual volatility over last\", number_of_years, \"  years for QQQ is:\", sigma_qqq*100,\"% per year.\")\n",
    "\n"
   ]
  },
  {
   "cell_type": "markdown",
   "id": "5fdd99d1-7bad-424a-84fc-f6bf3c2d55e8",
   "metadata": {},
   "source": [
    "Investors are usually interested in compound returns over a period of time. If one assumes continuous compounding, the rate of return over a time period is given by $\\ln \\frac{S_t}{S_0}$, where $S_0$ is the price of the stock on the day of initial investment and $S_t$ is the current price of stock. We can compute this using the following code.\n",
    "\n"
   ]
  },
  {
   "cell_type": "code",
   "execution_count": 63,
   "id": "ea6b221f-5328-4664-be83-3cf70f691148",
   "metadata": {},
   "outputs": [
    {
     "name": "stdout",
     "output_type": "stream",
     "text": [
      "Compounded annual return over the last 15.175342465753424  years for SPY is: 12.365024798261198 % per year.\n",
      "Compounded annual return over the last 15.175342465753424  years for QQQ is: 16.322770845248808 % per year.\n"
     ]
    }
   ],
   "source": [
    "#computing the annualized compound interest over the 15 years of data.\n",
    "compunded_spy = np.log(spy_history[\"Close\"][len(spy_history)-1]/spy_history[\"Close\"][0])/number_of_years\n",
    "compunded_qqq = np.log(qqq_history[\"Close\"][len(qqq_history)-1]/qqq_history[\"Close\"][0])/number_of_years\n",
    "\n",
    "print(\"Compounded annual return over the last\", number_of_years, \" years for SPY is:\", compunded_spy*100, \"% per year.\")\n",
    "print(\"Compounded annual return over the last\", number_of_years, \" years for QQQ is:\", compunded_qqq*100, \"% per year.\")"
   ]
  },
  {
   "cell_type": "markdown",
   "id": "0c7e369c-1704-4587-b665-2dcb0651f1ca",
   "metadata": {},
   "source": [
    "<h1>Mathematical model for compounding </h1>\n",
    "\n",
    "As one can see from above the compounded return differs from the average annual return substantially. This is mathematically modeled by the following equation\n",
    "\n",
    "$$d \\ln S_t = (\\mu - \\frac{1}{2} \\sigma^2) dt + \\sigma dW_t,$$\n",
    "\n",
    "where we assume the equation above for the stock price $S_t$. This equation is due to Ito's formula. Ito's formula is foundation of modern mathematical finance. Using our earlier computation of the average return and the standard deviation of the stocks we can compute as follows."
   ]
  },
  {
   "cell_type": "code",
   "execution_count": 64,
   "id": "f099f824-a81b-4463-9f38-8e470e650fdc",
   "metadata": {},
   "outputs": [
    {
     "name": "stdout",
     "output_type": "stream",
     "text": [
      "Compounded annual return over the last 15.175342465753424   years for SPY using Ito formula is: 12.40524885967059 % per year.\n",
      "Compounded annual return over the last 15.175342465753424   years for QQQ using Ito formula is: 16.3757728066648 % per year.\n"
     ]
    }
   ],
   "source": [
    "#Computing compounded returns using Ito formula.\n",
    "compounded_spy_ito = mean_spy*252 - ((sigma_spy*sigma_spy)/2)\n",
    "compounded_qqq_ito = mean_qqq*252 - ((sigma_qqq*sigma_qqq)/2)\n",
    "print(\"Compounded annual return over the last\", number_of_years, \"  years for SPY using Ito formula is:\", compounded_spy_ito*100, \"% per year.\")\n",
    "print(\"Compounded annual return over the last\", number_of_years, \"  years for QQQ using Ito formula is:\", compounded_qqq_ito*100, \"% per year.\")"
   ]
  },
  {
   "cell_type": "markdown",
   "id": "91b9aad5-bfa6-44be-895c-20bb986f027b",
   "metadata": {},
   "source": [
    "As one can see the numbers are almost the same. There is a small difference from the actual numbers which is taken into account by the Brownian motion term. Now one can see why a triple levaraged ETF will have a volatility drag using Ito formula. A $3 \\times $ levaraged ETF like SPXL, TQQQ will have $3 \\times$ the mean return and the standard deviation as compared to SPY, QQQ. Lets make sure that this is correct."
   ]
  },
  {
   "cell_type": "code",
   "execution_count": 65,
   "id": "6e8990dc-b551-49fe-bdd1-b1f5046b147e",
   "metadata": {},
   "outputs": [
    {
     "name": "stdout",
     "output_type": "stream",
     "text": [
      "Average annual return over the last 15.175342465753424  years for SPXL is: 36.806397087463274 % per year.\n",
      "Average annual return over the last 15.175342465753424  years for TQQQ is: 50.66050645765304 % per year.\n",
      "Annual volatility over last last 15.175342465753424  for SPXL is: 51.99041605221223 % per year.\n",
      "Annual volatility over last 15.175342465753424   years for TQQQ is: 61.623688397722596 % per year.\n"
     ]
    }
   ],
   "source": [
    "#Fetch the historical prices for SPXL and TQQQ and compute the mean and standard deviation of them.\n",
    "\n",
    "spxl_info = yfinance.Ticker(\"SPXL\")\n",
    "tqqq_info = yfinance.Ticker(\"TQQQ\")\n",
    "spxl_history = spxl_info.history(start = start_date, end = end_date)\n",
    "tqqq_history = tqqq_info.history(start = start_date, end = end_date)\n",
    "\n",
    "dailyret_spxl = spxl_history.loc[:, \"Close\"].pct_change()\n",
    "dailyret_tqqq = tqqq_history.loc[:,\"Close\"].pct_change()\n",
    "\n",
    "#Compute the average return for SPXL and TQQQ\n",
    "mean_spxl = np.mean(dailyret_spxl)\n",
    "mean_tqqq = np.mean(dailyret_tqqq)\n",
    "\n",
    "#Since we computed the daily returns based on trading days, to annualize the returns we multiply by 252, for the trading days \n",
    "print(\"Average annual return over the last\", number_of_years, \" years for SPXL is:\", mean_spxl*252*100,\"% per year.\")\n",
    "print(\"Average annual return over the last\", number_of_years, \" years for TQQQ is:\", mean_tqqq*252*100,\"% per year.\")\n",
    "\n",
    "\n",
    "#Compute the standard deviation of returns and then annualize them.\n",
    "\n",
    "sigma_spxl = np.std(dailyret_spxl)*np.sqrt(252)\n",
    "sigma_tqqq = np.std(dailyret_tqqq)*np.sqrt(252)\n",
    "\n",
    "print(\"Annual volatility over last last\", number_of_years, \" for SPXL is:\", sigma_spxl*100,\"% per year.\")\n",
    "print(\"Annual volatility over last\", number_of_years, \"  years for TQQQ is:\", sigma_tqqq*100,\"% per year.\")"
   ]
  },
  {
   "cell_type": "code",
   "execution_count": 66,
   "id": "0a57ae1e-f115-43c1-b871-abfc87fe0dc5",
   "metadata": {},
   "outputs": [
    {
     "name": "stdout",
     "output_type": "stream",
     "text": [
      "Compounded annual return over the last 15.175342465753424   years for SPXL is: 23.00955485874493 % per year.\n",
      "Compounded annual return over the last 15.175342465753424   years for TQQQ is: 31.35759311837374 % per year.\n"
     ]
    }
   ],
   "source": [
    "#Compounded returns for SPXL and TQQQ.\n",
    "\n",
    "compunded_spxl = np.log(spxl_history[\"Close\"][len(spxl_history)-1]/spxl_history[\"Close\"][0])/number_of_years\n",
    "compunded_tqqq = np.log(tqqq_history[\"Close\"][len(tqqq_history)-1]/tqqq_history[\"Close\"][0])/number_of_years\n",
    "\n",
    "print(\"Compounded annual return over the last\", number_of_years, \"  years for SPXL is:\", compunded_spxl*100, \"% per year.\")\n",
    "print(\"Compounded annual return over the last\", number_of_years, \"  years for TQQQ is:\", compunded_tqqq*100, \"% per year.\")"
   ]
  },
  {
   "cell_type": "code",
   "execution_count": 67,
   "id": "01bd325b-1743-4258-a89a-6fc8437210fb",
   "metadata": {},
   "outputs": [
    {
     "name": "stdout",
     "output_type": "stream",
     "text": [
      "Compounded annual return over the last 15.175342465753424   years for SPXL using Ito formula is: 23.291380281052643 % per year.\n",
      "Compounded annual return over the last 15.175342465753424   years for TQQQ using Ito formula is: 31.67311159895499 % per year.\n"
     ]
    }
   ],
   "source": [
    "#Now one can compute the compounded returns using Ito formula as we saw above. \n",
    "compounded_spxl_ito = mean_spxl*252 - ((sigma_spxl*sigma_spxl)/2)\n",
    "compounded_tqqq_ito = mean_tqqq*252-((sigma_tqqq*sigma_tqqq)/2)\n",
    "\n",
    "print(\"Compounded annual return over the last\", number_of_years, \"  years for SPXL using Ito formula is:\", compounded_spxl_ito*100, \"% per year.\")\n",
    "print(\"Compounded annual return over the last\", number_of_years, \"  years for TQQQ using Ito formula is:\", compounded_tqqq_ito*100, \"% per year.\")"
   ]
  },
  {
   "cell_type": "raw",
   "id": "21b4d3c7-4e98-4ff4-acad-6c5aaec62b25",
   "metadata": {},
   "source": [
    "\n",
    "<h1>Remark</h1>\n",
    "\n",
    " <ul>\n",
    "  <li>We can see from the data that the average return for SPXL is approximately $2.67 \\times $ the average return of SPY, whereas average return for TQQQ is approximately $2.75 \\times$ the average return of QQQ. Volatility for both is $3 \\times$ the underlying volatility. </li>\n",
    "  <li>It is important to note that the returns are predicted by Ito's formula match very closely with the returns one gets from the data.</li>\n",
    "\n",
    "</ul>  \n",
    "\n",
    "\n"
   ]
  },
  {
   "cell_type": "markdown",
   "id": "ce9b46fe-4679-4ccf-969b-de8ae0216d1e",
   "metadata": {},
   "source": [
    "Looking at the numbers above will give an illusion that these ETFs are safe to invest over long term. Nonetheless, these ETFs are not suitable for long term holdings. Using actual data we can quantify the drag associated with these ETFs. Using this we can extrapolate the performance of these ETFs to longer holding periods. As we will see even though data available for these ETFs may suggest that they are safe for longer term holding, the extrapolation of the data will show the problems with this argument."
   ]
  },
  {
   "cell_type": "code",
   "execution_count": 68,
   "id": "7a24d941-0e47-4820-b533-7b65cb08914c",
   "metadata": {},
   "outputs": [
    {
     "name": "stdout",
     "output_type": "stream",
     "text": [
      "Average annual return over the last  26.112328767123287 years for SPY is: 9.12958615137576 %\n",
      "Average annual return over the last  26.112328767123287  years for QQQ is: 12.741412031767343 %\n",
      "Annual volatility over last 26.112328767123287  years for SPY is: 19.4843769464844 % per year.\n",
      "Annual volatility over last 26.112328767123287   years for QQQ is: 27.27630867600866 % per year.\n",
      "Compounded annual return over the last 26.112328767123287  years for SPY is: 7.186011159119585 % per year.\n",
      "Compounded annual return over the last 26.112328767123287  years for QQQ is: 9.48607991940333 % per year.\n"
     ]
    }
   ],
   "source": [
    "#Do the analysis for SPY and QQQ over the wider data range.\n",
    "\n",
    "#Get the data for date range of extrapolation\n",
    "start_date_extrapolation = \"1999-03-10\"\n",
    "end_date_extrapolation = \"2025-04-13\"\n",
    "\n",
    "number_of_years_extrapolation = (dt.datetime.strptime(end_date_extrapolation,\"%Y-%m-%d\") - dt.datetime.strptime(start_date_extrapolation, \"%Y-%m-%d\"))/timedelta(days=365)\n",
    "                 \n",
    "spy_history_extrapolation = spy_info.history(start = start_date_extrapolation , end = end_date_extrapolation )\n",
    "qqq_history_extrapolation = qqq_info.history(start = start_date_extrapolation, end = end_date_extrapolation)\n",
    "\n",
    "spy_history_extrapolation.reset_index(inplace = True)\n",
    "qqq_history_extrapolation.reset_index(inplace = True)\n",
    "\n",
    "#Compute the mean returns, volatility and compounded returns \n",
    "\n",
    "dailyret_spy = spy_history_extrapolation.loc[:, \"Close\"].pct_change()\n",
    "dailyret_qqq = qqq_history_extrapolation.loc[:,\"Close\"].pct_change()\n",
    "\n",
    "#Compute the average return for SPY and QQQ\n",
    "mean_spy = np.mean(dailyret_spy)\n",
    "mean_qqq = np.mean(dailyret_qqq)\n",
    "\n",
    "#Since we computed the daily returns based on trading days, to annualize the returns we multiply by 252, for the trading days \n",
    "print(\"Average annual return over the last \", number_of_years_extrapolation, \"years for SPY is:\", mean_spy*252*100,\"%\")\n",
    "print(\"Average annual return over the last \", number_of_years_extrapolation,\" years for QQQ is:\", mean_qqq*252*100,\"%\")\n",
    "\n",
    "#Compute the standard deviation of returns and then annualize them.\n",
    "\n",
    "sigma_spy = np.std(dailyret_spy)*np.sqrt(252)\n",
    "sigma_qqq = np.std(dailyret_qqq)*np.sqrt(252)\n",
    "\n",
    "#Usually the standard deviation is annualized and shown as percentage. This is also called the volatility of the stock.\n",
    "\n",
    "print(\"Annual volatility over last\", number_of_years_extrapolation, \" years for SPY is:\", sigma_spy*100,\"% per year.\")\n",
    "print(\"Annual volatility over last\", number_of_years_extrapolation, \"  years for QQQ is:\", sigma_qqq*100,\"% per year.\")\n",
    "\n",
    "#computing the annualized compound interest over the 15 years of data.\n",
    "compunded_spy = np.log(spy_history[\"Close\"][len(spy_history)-1]/spy_history[\"Close\"][0])/number_of_years_extrapolation\n",
    "compunded_qqq = np.log(qqq_history[\"Close\"][len(qqq_history)-1]/qqq_history[\"Close\"][0])/number_of_years_extrapolation\n",
    "\n",
    "print(\"Compounded annual return over the last\", number_of_years_extrapolation, \" years for SPY is:\", compunded_spy*100, \"% per year.\")\n",
    "print(\"Compounded annual return over the last\", number_of_years_extrapolation, \" years for QQQ is:\", compunded_qqq*100, \"% per year.\")\n",
    "\n"
   ]
  },
  {
   "cell_type": "code",
   "execution_count": 69,
   "id": "674ca616-962d-47b3-b52e-0121c8a8f723",
   "metadata": {},
   "outputs": [
    {
     "name": "stdout",
     "output_type": "stream",
     "text": [
      "Compounded annual return over the last 26.112328767123287   years for SPXL using Ito formula is: 7.292152499502108 % per year.\n",
      "Compounded annual return over the last 26.112328767123287   years for TQQQ using Ito formula is: 1.5590174128594592 % per year.\n"
     ]
    }
   ],
   "source": [
    "#Now we use the extrapolation to compute the compounded returns. Assuming the relationship observed between average returns and volatility for SPXL and TQQQ hold\n",
    "# \n",
    "compounded_spxl_ito = (2.67*mean_spy)*252 - ((9*sigma_spy*sigma_spy)/2)\n",
    "compounded_tqqq_ito = (2.75*mean_qqq)*252-((9*sigma_qqq*sigma_qqq)/2)\n",
    "\n",
    "print(\"Compounded annual return over the last\", number_of_years_extrapolation, \"  years for SPXL using Ito formula is:\", compounded_spxl_ito*100, \"% per year.\")\n",
    "print(\"Compounded annual return over the last\", number_of_years_extrapolation, \"  years for TQQQ using Ito formula is:\", compounded_tqqq_ito*100, \"% per year.\")"
   ]
  },
  {
   "cell_type": "markdown",
   "id": "559d3045-019f-4151-a4f8-f4e505c65a0b",
   "metadata": {},
   "source": [
    "\n",
    "<h1>Conclusion</h1>\n",
    "<ul>\n",
    "  <li>As one can see using Ito formula we can mathematically explain the nature of compounded returns of levaraged ETFs. </li>\n",
    "  <li>If one extrapolates the returns for SPXL and TQQQ using Ito's formula we can see that since 1999 the compunded annual return for the levaraged ETFs are even lower than their unlevaraged counterparts.</li>\n",
    "\n",
    "</ul> \n"
   ]
  },
  {
   "cell_type": "code",
   "execution_count": null,
   "id": "69743089-2c91-49ac-8e6e-e12e84e71620",
   "metadata": {},
   "outputs": [],
   "source": []
  }
 ],
 "metadata": {
  "kernelspec": {
   "display_name": "Python 3 (ipykernel)",
   "language": "python",
   "name": "python3"
  },
  "language_info": {
   "codemirror_mode": {
    "name": "ipython",
    "version": 3
   },
   "file_extension": ".py",
   "mimetype": "text/x-python",
   "name": "python",
   "nbconvert_exporter": "python",
   "pygments_lexer": "ipython3",
   "version": "3.8.18"
  }
 },
 "nbformat": 4,
 "nbformat_minor": 5
}
